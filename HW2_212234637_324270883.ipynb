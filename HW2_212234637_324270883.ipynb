{
 "cells": [
  {
   "cell_type": "markdown",
   "metadata": {},
   "source": [
    "# Introduction to Data Analasys\n",
    "## HW 2\n",
    "##### Presenters:\n",
    "Roi Maskalik, 212234637 <br>\n",
    "Dvir Twito, 324270883"
   ]
  },
  {
   "cell_type": "code",
   "execution_count": 144,
   "metadata": {},
   "outputs": [],
   "source": [
    "import numpy as np\n",
    "import pandas as pd\n",
    "import matplotlib.pyplot as plt\n",
    "import seaborn as sns\n",
    "hw_df = pd.read_csv(\"HW2-Data.csv\")"
   ]
  },
  {
   "cell_type": "markdown",
   "metadata": {},
   "source": [
    "### Question 1\n",
    "There are 2 courses listed in the dataset: Math and Portuguese"
   ]
  },
  {
   "cell_type": "code",
   "execution_count": 145,
   "metadata": {},
   "outputs": [
    {
     "name": "stdout",
     "output_type": "stream",
     "text": [
      "There are 2 courses listed in the dataset.\n"
     ]
    },
    {
     "data": {
      "text/plain": [
       "dict_keys(['Math', 'Portuguese'])"
      ]
     },
     "execution_count": 145,
     "metadata": {},
     "output_type": "execute_result"
    }
   ],
   "source": [
    "df_gb_class = hw_df.groupby('class')\n",
    "courses = df_gb_class.groups.keys()\n",
    "print(f\"There are {len(courses)} courses listed in the dataset.\")\n",
    "courses\n"
   ]
  },
  {
   "cell_type": "markdown",
   "metadata": {},
   "source": [
    "### Question 2\n",
    "There are 1044 students listed in the dataset."
   ]
  },
  {
   "cell_type": "code",
   "execution_count": 147,
   "metadata": {},
   "outputs": [
    {
     "name": "stdout",
     "output_type": "stream",
     "text": [
      "There are 1044 students listed in the dataset\n"
     ]
    }
   ],
   "source": [
    "print(f\"There are {hw_df.shape[0]} students listed in the dataset\")"
   ]
  },
  {
   "cell_type": "markdown",
   "metadata": {},
   "source": [
    "### Question 3\n",
    "There are 395 students in Math course, and 649 students in Portuguese course."
   ]
  },
  {
   "cell_type": "code",
   "execution_count": 348,
   "metadata": {},
   "outputs": [
    {
     "data": {
      "text/plain": [
       "class       class     \n",
       "Math        Math          395\n",
       "Portuguese  Portuguese    649\n",
       "Name: class, dtype: int64"
      ]
     },
     "execution_count": 348,
     "metadata": {},
     "output_type": "execute_result"
    }
   ],
   "source": [
    "df_gb_class['class'].value_counts()"
   ]
  },
  {
   "cell_type": "markdown",
   "metadata": {},
   "source": [
    "### Question 4\n",
    "It seems that there is a correlation between having a romantic relationship and academic success:<br>\n",
    "Students that have a romantic relationship have a lower final score on average and higher absece rate (higher absece median), thus they are achieving less academic success than the students that don't have a romantic relationhsip."
   ]
  },
  {
   "cell_type": "code",
   "execution_count": 148,
   "metadata": {},
   "outputs": [
    {
     "name": "stdout",
     "output_type": "stream",
     "text": [
      "Final score mean: \n",
      "Students that have a romantic relationship: 10.830188679245284 \n",
      "Students that don't have a romantic relationship: 11.62407132243685 \n",
      "\n",
      "Absences median: \n",
      "Students that have a romantic relationship: 3.0 \n",
      "Students that don't have a romantic relationship: 2.0\n"
     ]
    }
   ],
   "source": [
    "# The final score mean of students that have a romantic relationship\n",
    "final_score_mean_romantic = hw_df[hw_df['romantic'] == 'yes']['G3'].mean()\n",
    "\n",
    "# The final score mean of students that don't have a romantic relationship\n",
    "final_score_mean_not_romantic = hw_df[hw_df['romantic'] == 'no']['G3'].mean()\n",
    "\n",
    "# The absences median of students that have a romantic relationship\n",
    "absences_median_romantic = hw_df[hw_df['romantic'] == 'yes']['absences'].median()\n",
    "\n",
    "# The absences median of students that don't have a romantic relationship\n",
    "absences_median_not_romantic = hw_df[hw_df['romantic'] == 'no']['absences'].median()\n",
    "\n",
    "# Print the results\n",
    "print('Final score mean:',\n",
    "     '\\nStudents that have a romantic relationship:', final_score_mean_romantic,\n",
    "     \"\\nStudents that don't have a romantic relationship:\", final_score_mean_not_romantic,\n",
    "     '\\n\\nAbsences median:',\n",
    "     '\\nStudents that have a romantic relationship:', absences_median_romantic,\n",
    "     \"\\nStudents that don't have a romantic relationship:\", absences_median_not_romantic)"
   ]
  },
  {
   "cell_type": "markdown",
   "metadata": {},
   "source": [
    "### Question 5\n",
    "The histogram of the students’ ages presented below.<br>\n",
    "We crated it by using the countplot function."
   ]
  },
  {
   "cell_type": "code",
   "execution_count": 151,
   "metadata": {},
   "outputs": [
    {
     "data": {
      "image/png": "[encoded data removed]",
      "text/plain": [
       "<Figure size 432x360 with 1 Axes>"
      ]
     },
     "metadata": {
      "needs_background": "light"
     },
     "output_type": "display_data"
    }
   ],
   "source": [
    "# Set the size of the histogram\n",
    "plt.figure(figsize=(6, 5))\n",
    "\n",
    "# Create the histogram\n",
    "ages_hist = sns.countplot(data=hw_df, x='age')\n",
    "\n",
    "# Set the label of the Y axis\n",
    "ages_hist.set(ylabel='Number of students')\n",
    "\n",
    "# Set the title\n",
    "ages_hist.set_title(\"The students' ages histogram\", fontsize=16)\n",
    "\n",
    "# Show the histogram\n",
    "plt.show()"
   ]
  },
  {
   "cell_type": "markdown",
   "metadata": {},
   "source": [
    "### Question 6\n",
    "The plot of the students’ mean grade in each class presented below."
   ]
  },
  {
   "cell_type": "code",
   "execution_count": 149,
   "metadata": {},
   "outputs": [
    {
     "data": {
      "image/png": "[encoded data removed]",
      "text/plain": [
       "<Figure size 360x360 with 1 Axes>"
      ]
     },
     "metadata": {
      "needs_background": "light"
     },
     "output_type": "display_data"
    }
   ],
   "source": [
    "# Get the mean grade of each class\n",
    "group_by_courses_mean_df = hw_df.groupby('class', as_index = False)['G3'].mean()\n",
    "\n",
    "# Create the plot\n",
    "median_by_courses_graph = sns.catplot(kind = 'bar', data = group_by_courses_mean_df, x = 'class', y ='G3')\n",
    "\n",
    "# Set the the labels of the Y axis\n",
    "median_by_courses_graph.set(ylabel= 'Mean of the final grade')\n",
    "\n",
    "# Add a title\n",
    "median_by_courses_graph.fig.suptitle('The mean of the final grades in each course', fontsize=13, y=1.03)\n",
    "\n",
    "# Show plot and clean output\n",
    "plt.show()"
   ]
  },
  {
   "cell_type": "markdown",
   "metadata": {},
   "source": [
    "### Question 7"
   ]
  },
  {
   "cell_type": "code",
   "execution_count": 341,
   "metadata": {},
   "outputs": [
    {
     "data": {
      "image/png": "[encoded data removed]",
      "text/plain": [
       "<Figure size 576x360 with 1 Axes>"
      ]
     },
     "metadata": {
      "needs_background": "light"
     },
     "output_type": "display_data"
    }
   ],
   "source": [
    "# Set the minimum and maximum grades\n",
    "min_grade = 0\n",
    "max_grade = 20\n",
    "\n",
    "# Create array of all possible scores\n",
    "optional_grades = np.arange(min_grade, max_grade + 1)\n",
    "\n",
    "# Set the size of the plot\n",
    "plt.figure(figsize=(8, 5))\n",
    "\n",
    "# Plot the scores distribution\n",
    "grades_count_plot = sns.countplot(data=hw_df, x='G3', hue='class', order=optional_grades)\n",
    "\n",
    "# Set the the labels of the axes\n",
    "grades_count_plot.set(xlabel=\"Final score\", ylabel='Number of students')\n",
    "\n",
    "# Set the title\n",
    "grades_count_plot.set_title(\"Distribution of the final scores in each class\", fontsize=16)\n",
    "\n",
    "# Show plot and clean output\n",
    "plt.show()"
   ]
  },
  {
   "cell_type": "markdown",
   "metadata": {},
   "source": [
    "### Question 8\n",
    "We can see from the graph that the Math course is almost balanced gender-wised, but the Portuguese course has significantly more females than males."
   ]
  },
  {
   "cell_type": "code",
   "execution_count": 155,
   "metadata": {},
   "outputs": [
    {
     "data": {
      "image/png": "[encoded data removed]",
      "text/plain": [
       "<Figure size 404.625x360 with 1 Axes>"
      ]
     },
     "metadata": {
      "needs_background": "light"
     },
     "output_type": "display_data"
    }
   ],
   "source": [
    "# Get the number of males and females in each course\n",
    "group_by_courses_gender_df = hw_df.groupby(['class', 'sex']).size().reset_index(name='count')\n",
    "\n",
    "# Create the plot\n",
    "gender_by_courses_plot = sns.catplot(kind = 'bar', data = group_by_courses_gender_df, x='class', y='count', hue='sex')\n",
    "\n",
    "# Set the the labels of the Y axis\n",
    "gender_by_courses_plot.set(ylabel= 'number of students')\n",
    "\n",
    "# Set the title\n",
    "gender_by_courses_plot.fig.suptitle('Students in each course by gender', fontsize=14, y=1.02)\n",
    "\n",
    "# Show plot and clean output\n",
    "plt.show()"
   ]
  },
  {
   "cell_type": "markdown",
   "metadata": {},
   "source": [
    "### Question 9\n",
    "We created two side by side box plots which represent the final scores in the extra paid classes and the non extra paid clsses.\n",
    "\n",
    "In the plots we can see that the scores in the non extra paid classes are a little bit higher. For example, the mean, the median, the minimum score and the maximum score are higher in the non extra paid classes.<br>\n",
    "However, those differences are very minor, so we think that there is no association between those two things."
   ]
  },
  {
   "cell_type": "code",
   "execution_count": 187,
   "metadata": {},
   "outputs": [
    {
     "data": {
      "image/png": "[encoded data removed]",
      "text/plain": [
       "<Figure size 576x720 with 1 Axes>"
      ]
     },
     "metadata": {
      "needs_background": "light"
     },
     "output_type": "display_data"
    }
   ],
   "source": [
    "# # Get the series of final scores\n",
    "# paid_class_grades = hw_df[hw_df['paid'] == 'yes']['G3']\n",
    "# non_paid_class_grades = hw_df[hw_df['paid'] == 'no']['G3']\n",
    "\n",
    "# Create the box plots\n",
    "box_plot = sns.boxplot(data=hw_df, x='paid', y='G3', showmeans=True)\n",
    "\n",
    "# Set the lables of the axes\n",
    "box_plot.set(xlabel='Extra paid and non extra paid classes', ylabel='Final score')\n",
    "\n",
    "# Set the ticks of the x axis\n",
    "box_plot.set_xticklabels(['Non extea paid','Extra paid'])\n",
    "\n",
    "# Add a title\n",
    "box_plot.figure.suptitle(\"Final scores in Extra paid and non extra paid classes\", fontsize=16, y=0.91)\n",
    "\n",
    "# Enlarge the size of the plot, so the differences can be easier spotted\n",
    "box_plot.figure.set_size_inches(8,10)\n",
    "\n",
    "# Show plot and clean output\n",
    "plt.show()"
   ]
  },
  {
   "cell_type": "markdown",
   "metadata": {},
   "source": [
    "### Question 10"
   ]
  },
  {
   "cell_type": "code",
   "execution_count": null,
   "metadata": {},
   "outputs": [],
   "source": []
  },
  {
   "cell_type": "markdown",
   "metadata": {},
   "source": [
    "### Question 11\n",
    "We created a bar plot which presents the number of students drinking during the weekdays and the weekends, for each level of alcohol consumption.\n",
    "We can learn from the plot that most of the students who drink more than a little bit, do it during the weekends. Thus, we can conclude that it is more plausible that students will drink during the weekends rather than during the weekdays."
   ]
  },
  {
   "cell_type": "code",
   "execution_count": 325,
   "metadata": {},
   "outputs": [
    {
     "data": {
      "image/png": "[encoded data removed]",
      "text/plain": [
       "<Figure size 576x360 with 1 Axes>"
      ]
     },
     "metadata": {
      "needs_background": "light"
     },
     "output_type": "display_data"
    }
   ],
   "source": [
    "# Create dataframe for the weekdays\n",
    "weekday_alcohol = hw_df['Dalc']\n",
    "weekday_alcohol_count = weekday_alcohol.value_counts()\n",
    "\n",
    "# Create dataframe for the weekendss\n",
    "weekend_alcohol = hw_df['Walc']\n",
    "weekend_alcohol_count = weekend_alcohol.value_counts()\n",
    "\n",
    "# Create array of the alcohol consumption levels\n",
    "alcohol_consumption_levels = np.arange(1, 6)\n",
    "\n",
    "# Create dataframe for the alcohol consumption levels count\n",
    "alcohol_df = pd.DataFrame({'alcohol': alcohol_consumption_levels, 'weekday': weekday_alcohol_count,\n",
    "                           'weekend':weekend_alcohol_count})\n",
    "\n",
    "# Create the plot\n",
    "fig, axs = plt.subplots()\n",
    "alcohol_df.plot(kind='bar', x='alcohol', y=['weekday', 'weekend'], ax = axs)\n",
    "\n",
    "# Rotate the tick marks in the x axis\n",
    "axs.tick_params('x',labelrotation=0)\n",
    "\n",
    "# Set the lables of the axes\n",
    "plt.xlabel('Alcohol consumption level')\n",
    "plt.ylabel('Number of students')\n",
    "\n",
    "# Add a title\n",
    "fig.suptitle(\"Alcohol consumption during the weekdays and the weekends\", fontsize=13, y=0.94)\n",
    "\n",
    "# Set the size of the plot\n",
    "fig.set_size_inches(8,5)\n",
    "\n",
    "# Show plot and clean output\n",
    "plt.show()"
   ]
  },
  {
   "cell_type": "markdown",
   "metadata": {},
   "source": [
    "### Question 12"
   ]
  },
  {
   "cell_type": "code",
   "execution_count": 350,
   "metadata": {},
   "outputs": [
    {
     "data": {
      "text/plain": [
       "GP    772\n",
       "MS    272\n",
       "Name: school, dtype: int64"
      ]
     },
     "execution_count": 350,
     "metadata": {},
     "output_type": "execute_result"
    }
   ],
   "source": [
    "hw_df['school'].value_counts()"
   ]
  },
  {
   "cell_type": "markdown",
   "metadata": {},
   "source": [
    "### Question 13\n",
    "In question number 10, we can see that there is a positive correlation between alcohol consumption among the students and their absences.<br>\n",
    "Although there is some relationship between those two things (correlation), we can't infer from the data that this relationship is causal.<br>\n",
    "We think that we were able to determine (at least more accurately) whether or not this relationship is causal if we were given more data. Right now, the relationship between those two thing can be causal, but there might a third thing that causes the two, or that the correlation is a coincidence.<br>\n",
    "We think that we will be able to determine that if we will have information about why the students are absent, or why the students are drinkung alcohol.<bt>\n",
    "For example, if someone will ask those students why they are absent and they will say that it's because that there is an online recording of the class so they watch it, or that there are many summaries of the material, we will know that probably the relationship is not causal."
   ]
  },
  {
   "cell_type": "markdown",
   "metadata": {},
   "source": [
    "### Question 14"
   ]
  },
  {
   "cell_type": "code",
   "execution_count": null,
   "metadata": {},
   "outputs": [],
   "source": []
  },
  {
   "cell_type": "markdown",
   "metadata": {},
   "source": [
    "### 1\n"
   ]
  },
  {
   "cell_type": "code",
   "execution_count": 108,
   "metadata": {},
   "outputs": [],
   "source": [
    "def infected_count_from_single_patient(prob_infect, num_meet):\n",
    "    ''' Calculates the number of infected from a single patient. '''\n",
    "    people_status = ['Infected', 'Not infected']\n",
    "    probabilities = [prob_infect, 1 - prob_infect]\n",
    "    results =  np.random.choice(people_status, p=probabilities, size=num_meet)\n",
    "    return np.count_nonzero(results == 'Infected')\n",
    "\n",
    "def run_covid_simulation(num_initial, num_generations, prob_infect, num_meet):\n",
    "    ''' Runs one simulation. '''\n",
    "    total_infecteds = num_initial\n",
    "    infecteds_last_generation = num_initial\n",
    "    for generation in np.arange(1, num_generations):\n",
    "        infecteds_current_generation = 0\n",
    "        for infected in np.arange(infecteds_last_generation):\n",
    "            infecteds_current_generation += infected_count_from_single_patient(prob_infect, num_meet)\n",
    "        total_infecteds += infecteds_current_generation\n",
    "        infecteds_last_generation = infecteds_current_generation\n",
    "    \n",
    "    return total_infecteds\n"
   ]
  },
  {
   "cell_type": "markdown",
   "metadata": {},
   "source": [
    "###  Question 2"
   ]
  },
  {
   "cell_type": "code",
   "execution_count": 109,
   "metadata": {},
   "outputs": [],
   "source": [
    "def run_covid_simulations(num_sim, num_initial, num_generations, prob_infect, num_meet):\n",
    "    ''' Runs a given amoun of simulations. '''\n",
    "    results = np.empty(num_sim, dtype=int)\n",
    "    for simulation in np.arange(num_sim):\n",
    "        results[simulation] = run_covid_simulation(num_initial, num_generations, prob_infect, num_meet)\n",
    "    return results"
   ]
  },
  {
   "cell_type": "markdown",
   "metadata": {},
   "source": [
    "### Question 3\n",
    "We set the parameters of the simulations, and created a plot of the results using the funcrion from question number 2."
   ]
  },
  {
   "cell_type": "code",
   "execution_count": 125,
   "metadata": {},
   "outputs": [
    {
     "data": {
      "text/plain": [
       "[Text(0.5, 1.0, 'Histogram of 1000 simulations containing 4 generations each')]"
      ]
     },
     "execution_count": 125,
     "metadata": {},
     "output_type": "execute_result"
    },
    {
     "data": {
      "image/png": "[encoded data removed]",
      "text/plain": [
       "<Figure size 432x288 with 1 Axes>"
      ]
     },
     "metadata": {
      "needs_background": "light"
     },
     "output_type": "display_data"
    }
   ],
   "source": [
    "# Set the parameters of the simulations\n",
    "num_sim = 1000\n",
    "num_initial = 10\n",
    "num_generations = 4\n",
    "prob_infect = 0.2\n",
    "num_meet = 19\n",
    "\n",
    "# Run the simulation and create the plot of the results\n",
    "simulations_results = run_covid_simulations(num_sim, num_initial, num_generations, prob_infect, num_meet)\n",
    "simulations_plot = sns.distplot(simulations_results, kde=False)\n",
    "simulations_plot.set(title=f\"Histogram of {num_sim} simulations containing {num_generations} generations each\")\n",
    "\n",
    "# Show plot and clean output\n",
    "plt.show()"
   ]
  },
  {
   "cell_type": "markdown",
   "metadata": {},
   "source": [
    "### Question 4\n",
    "We created a function that runs 10 sets of simulations, each one with number of generations running from 1 to 10, and returns the average number of infected people for each set of simulations.\n",
    "Then, we used this function twice. The first time was with prob_infect = 0.05 and num_meet = 10, so R0 = 0.5, and the other with prob_infect = 0.15 and num_meet = 10, so R0 = 1.5.\n",
    "Then, we created a data frame from the averages of each call, and plotted a line plot from the dataframe.\n",
    "\n",
    "We understood the impotance of trying to get R0 less than 1: Since the number of infecteds grows exponentially, we need to try and get R0, which is the base of the power, less than 1, so the of the number of infecteds won't tend to infinity.<br>\n",
    "We can see it in the plots: the line which corresponds to R0 = 0.5 is almost not changing, while the line corresponds to R0 = 1.5 grows rapidly."
   ]
  },
  {
   "cell_type": "code",
   "execution_count": 87,
   "metadata": {},
   "outputs": [],
   "source": [
    "def run_simulations_from_1_to_10(num_sim, num_initial, prob_infect, num_meet):\n",
    "    ''' Runs 10 sets of simulations with num_generations ranging from 1 to 10,\n",
    "        and returns an array contains the average of each infecteds. '''\n",
    "    average_infecteds = np.empty(10)\n",
    "    for num_generations in np.arange(1, 11):\n",
    "        infecteds_count_array = run_covid_simulations(num_sim, num_initial, num_generations, prob_infect, num_meet)\n",
    "        average_infecteds[num_generations - 1] = infecteds_count_array.mean()\n",
    "    return average_infecteds"
   ]
  },
  {
   "cell_type": "code",
   "execution_count": 114,
   "metadata": {},
   "outputs": [],
   "source": [
    "# Set parameters for R0 = 0.5\n",
    "prob_infect_R0_smaller_than_1 = 0.05\n",
    "num_meet_R0_smaller_than_1 = 10\n",
    "\n",
    "# Get the average infecteds count corresponding to R0 = 0.5\n",
    "average_infecteds_R0_smaller_than_1 = run_simulations_from_1_to_10(num_sim, num_initial,\n",
    "                                                                   prob_infect_R0_smaller_than_1,\n",
    "                                                                   num_meet_R0_smaller_than_1)"
   ]
  },
  {
   "cell_type": "code",
   "execution_count": 113,
   "metadata": {},
   "outputs": [],
   "source": [
    "# Set parameters for R0 = 1.5\n",
    "prob_infect_R0_bigger_than_1 = 0.15\n",
    "num_meet_R0_bigger_than_1 = 10\n",
    "\n",
    "# Get the average infecteds count corresponding to R0 = 1.5\n",
    "average_infecteds_R0_bigger_than_1 = run_simulations_from_1_to_10(num_sim, num_initial,\n",
    "                                                                     prob_infect_R0_bigger_than_1,\n",
    "                                                                     num_meet_R0_bigger_than_1)"
   ]
  },
  {
   "cell_type": "code",
   "execution_count": 126,
   "metadata": {},
   "outputs": [],
   "source": [
    "# Create the data frame\n",
    "infecteds_average_df = pd.DataFrame({'generation':np.arange(1, 11),\n",
    "                                     'small_R0':average_infecteds_R0_smaller_than_1,\n",
    "                                     'big_R0':average_infecteds_R0_bigger_than_1})"
   ]
  },
  {
   "cell_type": "code",
   "execution_count": 143,
   "metadata": {},
   "outputs": [
    {
     "data": {
      "image/png": "[encoded data removed]",
      "text/plain": [
       "<Figure size 432x288 with 1 Axes>"
      ]
     },
     "metadata": {
      "needs_background": "light"
     },
     "output_type": "display_data"
    }
   ],
   "source": [
    "# Plot the results\n",
    "infected_line_plot = sns.lineplot(data=infecteds_average_df, x='generation', y='big_R0', label='R0 = 1.5', color='red')\n",
    "sns.lineplot(data=infecteds_average_df, x='generation', y='small_R0', label='R0 = 0.5', color='blue')\n",
    "infected_line_plot.set(xlabel='Number of generations', ylabel='Number of infecteds')\n",
    "infected_line_plot.figure.suptitle('The effect of R0', fontsize=16, y=0.95)\n",
    "\n",
    "# Show plot and clean output\n",
    "plt.show()"
   ]
  }
 ],
 "metadata": {
  "kernelspec": {
   "display_name": "Python 3",
   "language": "python",
   "name": "python3"
  },
  "language_info": {
   "codemirror_mode": {
    "name": "ipython",
    "version": 3
   },
   "file_extension": ".py",
   "mimetype": "text/x-python",
   "name": "python",
   "nbconvert_exporter": "python",
   "pygments_lexer": "ipython3",
   "version": "3.7.6"
  }
 },
 "nbformat": 4,
 "nbformat_minor": 4
}
