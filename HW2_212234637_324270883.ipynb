{
 "cells": [
  {
   "cell_type": "markdown",
   "metadata": {},
   "source": [
    "# Introduction to Data Analasys\n",
    "## HW 2\n",
    "##### Presenters:\n",
    "Roi Maskalik, 212234637 <br>\n",
    "Dvir Twito, 324270883"
   ]
  },
  {
   "cell_type": "code",
   "execution_count": 36,
   "metadata": {},
   "outputs": [],
   "source": [
    "import numpy as np\n",
    "import pandas as pd\n",
    "import matplotlib.pyplot as plt\n",
    "import seaborn as sns\n",
    "hw_df = pd.read_csv(\"HW2-Data.csv\")"
   ]
  },
  {
   "cell_type": "markdown",
   "metadata": {},
   "source": [
    "### Question 1\n",
    "There are 2 courses listed in the dataset: Math and Portuguese"
   ]
  },
  {
   "cell_type": "code",
   "execution_count": 24,
   "metadata": {},
   "outputs": [
    {
     "name": "stdout",
     "output_type": "stream",
     "text": [
      "There are 2 listed in the dataset.\n"
     ]
    },
    {
     "data": {
      "text/plain": [
       "dict_keys(['Math', 'Portuguese'])"
      ]
     },
     "execution_count": 24,
     "metadata": {},
     "output_type": "execute_result"
    }
   ],
   "source": [
    "df_gb_class = hw_df.groupby('class')\n",
    "courses = df_gb_class.groups.keys()\n",
    "print(f\"There are {len(courses)} courses listed in the dataset.\")\n",
    "courses\n"
   ]
  },
  {
   "cell_type": "markdown",
   "metadata": {},
   "source": [
    "### Question 2"
   ]
  },
  {
   "cell_type": "code",
   "execution_count": null,
   "metadata": {},
   "outputs": [],
   "source": []
  },
  {
   "cell_type": "markdown",
   "metadata": {},
   "source": [
    "### Question 3\n",
    "There are 395 students in Math course, and 649 students in Portuguese course."
   ]
  },
  {
   "cell_type": "code",
   "execution_count": 30,
   "metadata": {},
   "outputs": [
    {
     "data": {
      "text/html": [
       "<div>\n",
       "<style scoped>\n",
       "    .dataframe tbody tr th:only-of-type {\n",
       "        vertical-align: middle;\n",
       "    }\n",
       "\n",
       "    .dataframe tbody tr th {\n",
       "        vertical-align: top;\n",
       "    }\n",
       "\n",
       "    .dataframe thead th {\n",
       "        text-align: right;\n",
       "    }\n",
       "</style>\n",
       "<table border=\"1\" class=\"dataframe\">\n",
       "  <thead>\n",
       "    <tr style=\"text-align: right;\">\n",
       "      <th></th>\n",
       "      <th>school</th>\n",
       "      <th>sex</th>\n",
       "      <th>age</th>\n",
       "      <th>address</th>\n",
       "      <th>famsize</th>\n",
       "      <th>Pstatus</th>\n",
       "      <th>Medu</th>\n",
       "      <th>Fedu</th>\n",
       "      <th>Mjob</th>\n",
       "      <th>Fjob</th>\n",
       "      <th>...</th>\n",
       "      <th>famrel</th>\n",
       "      <th>freetime</th>\n",
       "      <th>goout</th>\n",
       "      <th>Dalc</th>\n",
       "      <th>Walc</th>\n",
       "      <th>health</th>\n",
       "      <th>absences</th>\n",
       "      <th>G1</th>\n",
       "      <th>G2</th>\n",
       "      <th>G3</th>\n",
       "    </tr>\n",
       "    <tr>\n",
       "      <th>class</th>\n",
       "      <th></th>\n",
       "      <th></th>\n",
       "      <th></th>\n",
       "      <th></th>\n",
       "      <th></th>\n",
       "      <th></th>\n",
       "      <th></th>\n",
       "      <th></th>\n",
       "      <th></th>\n",
       "      <th></th>\n",
       "      <th></th>\n",
       "      <th></th>\n",
       "      <th></th>\n",
       "      <th></th>\n",
       "      <th></th>\n",
       "      <th></th>\n",
       "      <th></th>\n",
       "      <th></th>\n",
       "      <th></th>\n",
       "      <th></th>\n",
       "      <th></th>\n",
       "    </tr>\n",
       "  </thead>\n",
       "  <tbody>\n",
       "    <tr>\n",
       "      <th>Math</th>\n",
       "      <td>395</td>\n",
       "      <td>395</td>\n",
       "      <td>395</td>\n",
       "      <td>395</td>\n",
       "      <td>395</td>\n",
       "      <td>395</td>\n",
       "      <td>395</td>\n",
       "      <td>395</td>\n",
       "      <td>395</td>\n",
       "      <td>395</td>\n",
       "      <td>...</td>\n",
       "      <td>395</td>\n",
       "      <td>395</td>\n",
       "      <td>395</td>\n",
       "      <td>395</td>\n",
       "      <td>395</td>\n",
       "      <td>395</td>\n",
       "      <td>395</td>\n",
       "      <td>395</td>\n",
       "      <td>395</td>\n",
       "      <td>395</td>\n",
       "    </tr>\n",
       "    <tr>\n",
       "      <th>Portuguese</th>\n",
       "      <td>649</td>\n",
       "      <td>649</td>\n",
       "      <td>649</td>\n",
       "      <td>649</td>\n",
       "      <td>649</td>\n",
       "      <td>649</td>\n",
       "      <td>649</td>\n",
       "      <td>649</td>\n",
       "      <td>649</td>\n",
       "      <td>649</td>\n",
       "      <td>...</td>\n",
       "      <td>649</td>\n",
       "      <td>649</td>\n",
       "      <td>649</td>\n",
       "      <td>649</td>\n",
       "      <td>649</td>\n",
       "      <td>649</td>\n",
       "      <td>649</td>\n",
       "      <td>649</td>\n",
       "      <td>649</td>\n",
       "      <td>649</td>\n",
       "    </tr>\n",
       "  </tbody>\n",
       "</table>\n",
       "<p>2 rows × 33 columns</p>\n",
       "</div>"
      ],
      "text/plain": [
       "            school  sex  age  address  famsize  Pstatus  Medu  Fedu  Mjob  \\\n",
       "class                                                                       \n",
       "Math           395  395  395      395      395      395   395   395   395   \n",
       "Portuguese     649  649  649      649      649      649   649   649   649   \n",
       "\n",
       "            Fjob  ...  famrel  freetime  goout  Dalc  Walc  health  absences  \\\n",
       "class             ...                                                          \n",
       "Math         395  ...     395       395    395   395   395     395       395   \n",
       "Portuguese   649  ...     649       649    649   649   649     649       649   \n",
       "\n",
       "             G1   G2   G3  \n",
       "class                      \n",
       "Math        395  395  395  \n",
       "Portuguese  649  649  649  \n",
       "\n",
       "[2 rows x 33 columns]"
      ]
     },
     "execution_count": 30,
     "metadata": {},
     "output_type": "execute_result"
    }
   ],
   "source": [
    "df_gb_class.count()"
   ]
  },
  {
   "cell_type": "markdown",
   "metadata": {},
   "source": [
    "### Question 4\n"
   ]
  },
  {
   "cell_type": "code",
   "execution_count": null,
   "metadata": {},
   "outputs": [],
   "source": []
  },
  {
   "cell_type": "markdown",
   "metadata": {},
   "source": [
    "### Question 5\n",
    "The histogram of the students’ ages presented below.\n",
    "We crated it by taking the grouping the dataset by age, and then taking the count of an arbitrary column\n",
    "(because we saw that each column has the same count)."
   ]
  },
  {
   "cell_type": "code",
   "execution_count": 83,
   "metadata": {},
   "outputs": [
    {
     "data": {
      "text/plain": [
       "<seaborn.axisgrid.FacetGrid at 0x2462d2ffe08>"
      ]
     },
     "execution_count": 83,
     "metadata": {},
     "output_type": "execute_result"
    },
    {
     "data": {
      "image/png": "[encoded data removed]",
      "text/plain": [
       "<Figure size 360x360 with 1 Axes>"
      ]
     },
     "metadata": {
      "needs_background": "light"
     },
     "output_type": "display_data"
    }
   ],
   "source": [
    "df_gb_ages = hw_df.groupby('age', as_index=False)\n",
    "ages_count_df = df_gb_ages.count()[['age', 'school']].rename(columns={'school':'students_num'})\n",
    "ages_hist = sns.catplot(kind='bar', data=ages_count_df, x='age', y='students_num')\n",
    "ages_hist.fig.suptitle(\"The students' ages\")\n",
    "ages_hist.set(ylabel=\"Number of students\")"
   ]
  },
  {
   "cell_type": "markdown",
   "metadata": {},
   "source": [
    "### Question 6"
   ]
  },
  {
   "cell_type": "code",
   "execution_count": null,
   "metadata": {},
   "outputs": [],
   "source": []
  },
  {
   "cell_type": "markdown",
   "metadata": {},
   "source": [
    "### Question 7"
   ]
  },
  {
   "cell_type": "code",
   "execution_count": 269,
   "metadata": {},
   "outputs": [
    {
     "data": {
      "image/png": "[encoded data removed]",
      "text/plain": [
       "<Figure size 576x360 with 1 Axes>"
      ]
     },
     "metadata": {
      "needs_background": "light"
     },
     "output_type": "display_data"
    }
   ],
   "source": [
    "# Create array of all possible scores\n",
    "optional_grades = np.arange(0, 21)\n",
    "\n",
    "# Set the size of the plot\n",
    "plt.figure(figsize=(8, 5))\n",
    "\n",
    "# Plot the scores distribution\n",
    "grades_count_plot = sns.countplot(data=hw_df, x='G3', hue='class', order=optional_grades)\n",
    "\n",
    "# Set the title and the labels\n",
    "grades_count_plot.set(xlabel=\"Final score\", ylabel='Number of students',\n",
    "                      title=\"Distribution of the final scores in each class\")\n",
    "\n",
    "# Show the plot\n",
    "plt.show()"
   ]
  },
  {
   "cell_type": "markdown",
   "metadata": {},
   "source": [
    "### Question 8"
   ]
  },
  {
   "cell_type": "code",
   "execution_count": null,
   "metadata": {},
   "outputs": [],
   "source": []
  },
  {
   "cell_type": "markdown",
   "metadata": {},
   "source": [
    "### Question 9\n",
    "We created two side by side box plots which represent the final scores in the extra paid classes and the non extra paid clsses.\n",
    "\n",
    "In the plots we can see that the scores in the non extra paid classes are a little bit higher. For example, the mean, the median, the munimum score and the maximum score are higher in the non extra paid classes.<br>\n",
    "However, those differences are very minor, so we can't conclude whether or not there is an association."
   ]
  },
  {
   "cell_type": "code",
   "execution_count": 268,
   "metadata": {},
   "outputs": [
    {
     "data": {
      "image/png": "[encoded data removed]",
      "text/plain": [
       "<Figure size 576x360 with 1 Axes>"
      ]
     },
     "metadata": {
      "needs_background": "light"
     },
     "output_type": "display_data"
    }
   ],
   "source": [
    "# Get the series of final scores\n",
    "paid_class_grades = hw_df[hw_df['paid'] == 'yes']['G3']\n",
    "non_paid_class_grades = hw_df[hw_df['paid'] == 'no']['G3']\n",
    "\n",
    "# Create the box plots\n",
    "fig, axs = plt.subplots()\n",
    "axs.boxplot([paid_class_grades, non_paid_class_grades], labels=['Extra paid', 'Non extea paid'],\n",
    "            showmeans=True, patch_artist=True)\n",
    "\n",
    "# Set the lables of the axes\n",
    "plt.xlabel('\\nExtra paid and non extra paid classes')\n",
    "plt.ylabel('Final score')\n",
    "\n",
    "# Add a title\n",
    "fig.suptitle(\"Final scores in Extra paid and non extra paid classes\")\n",
    "\n",
    "# Enlarge the size of the plot, so the differences can be easier spotted\n",
    "fig.set_size_inches(8,5)\n",
    "\n",
    "# Show the plot\n",
    "plt.show()"
   ]
  },
  {
   "cell_type": "markdown",
   "metadata": {},
   "source": [
    "### Question 10"
   ]
  },
  {
   "cell_type": "code",
   "execution_count": null,
   "metadata": {},
   "outputs": [],
   "source": []
  },
  {
   "cell_type": "markdown",
   "metadata": {},
   "source": [
    "### Question 11\n",
    "We created a bar plot which presents the number of students drinking during the weekdays and the weekends, for each level of alcohol consumption.\n",
    "We can learn from the plot that most of the students who drink more than a little bit, do it during the weekends. Thus, we can conclude that it is more plausible that students will drink during the weekends rather than during the weekdays."
   ]
  },
  {
   "cell_type": "code",
   "execution_count": 267,
   "metadata": {},
   "outputs": [
    {
     "data": {
      "image/png": "[encoded data removed]",
      "text/plain": [
       "<Figure size 432x288 with 1 Axes>"
      ]
     },
     "metadata": {
      "needs_background": "light"
     },
     "output_type": "display_data"
    }
   ],
   "source": [
    "# Create dataframe for the weekdays\n",
    "df_gb_dalc = hw_df.groupby('Dalc', as_index=False)\n",
    "weekday_alcohol_df = df_gb_dalc.count()[['Dalc', 'school']].rename(columns={'Dalc':'consumption', 'school':'weekday'})\n",
    "\n",
    "# Create dataframe for the weekendss\n",
    "df_gb_walc = hw_df.groupby('Walc', as_index=False)\n",
    "weekend_alcohol_df = df_gb_walc.count()[['Walc', 'school']].rename(columns={'Walc':'consumption', 'school':'weekend'})\n",
    "\n",
    "# Merge the dataframes\n",
    "alcohol_df = weekday_alcohol_df.merge(weekend_alcohol_df, on='consumption')\n",
    "\n",
    "# Crate the plot\n",
    "fig, axs = plt.subplots()\n",
    "alcohol_df.plot(kind='bar', x='consumption', y=['weekday', 'weekend'], ax = axs)\n",
    "\n",
    "# Rotate the tick marks in the x axis\n",
    "axs.tick_params('x',labelrotation=0)\n",
    "\n",
    "# Set the lables of the axes\n",
    "plt.xlabel('Alcohol consumption level')\n",
    "plt.ylabel('Number of students')\n",
    "\n",
    "# Add a title\n",
    "fig.suptitle(\"Alcohol consumption during the weekdays and the weekends\")\n",
    "\n",
    "# Show the plot\n",
    "plt.show()"
   ]
  },
  {
   "cell_type": "markdown",
   "metadata": {},
   "source": [
    "### Question 12"
   ]
  },
  {
   "cell_type": "code",
   "execution_count": null,
   "metadata": {},
   "outputs": [],
   "source": []
  },
  {
   "cell_type": "markdown",
   "metadata": {},
   "source": [
    "### Question 13"
   ]
  },
  {
   "cell_type": "code",
   "execution_count": null,
   "metadata": {},
   "outputs": [],
   "source": []
  },
  {
   "cell_type": "markdown",
   "metadata": {},
   "source": [
    "### Question 14"
   ]
  },
  {
   "cell_type": "code",
   "execution_count": null,
   "metadata": {},
   "outputs": [],
   "source": []
  }
 ],
 "metadata": {
  "kernelspec": {
   "display_name": "Python 3",
   "language": "python",
   "name": "python3"
  },
  "language_info": {
   "codemirror_mode": {
    "name": "ipython",
    "version": 3
   },
   "file_extension": ".py",
   "mimetype": "text/x-python",
   "name": "python",
   "nbconvert_exporter": "python",
   "pygments_lexer": "ipython3",
   "version": "3.7.6"
  }
 },
 "nbformat": 4,
 "nbformat_minor": 4
}
